{
  "cells": [
    {
      "cell_type": "markdown",
      "metadata": {
        "id": "MS8IzRWFoJqq"
      },
      "source": [
        "---\n",
        "# IMPORT"
      ]
    },
    {
      "cell_type": "code",
      "execution_count": 46,
      "metadata": {
        "id": "u3d5l_MeoJqy"
      },
      "outputs": [],
      "source": [
        "import os\n",
        "import numpy as np\n",
        "import pandas as pd\n",
        "import ast\n",
        "\n",
        "from PIL import Image\n",
        "\n",
        "from tensorflow.keras.models import Model\n",
        "from tensorflow.keras.applications import EfficientNetB0\n",
        "from tensorflow.keras.layers import Dropout, Dense, Input, GlobalAveragePooling2D\n",
        "from tensorflow.keras.optimizers import Adam"
      ]
    },
    {
      "cell_type": "markdown",
      "metadata": {
        "id": "gd_VeEemoJq2"
      },
      "source": [
        "---\n",
        "# VARIABLES"
      ]
    },
    {
      "cell_type": "code",
      "execution_count": 47,
      "metadata": {
        "id": "L6AtQU9soJq4"
      },
      "outputs": [],
      "source": [
        "mapping = {0:'masked', 1:'unmasked'}\n",
        "model_name = 'Masked_Model_Best.h5'#path model \n",
        "bbox_label_file = 'path_csv.csv'#path csv\n",
        "link_folder = 'data'#path folder\n",
        "size_image = (128, 128)\n"
      ]
    },
    {
      "cell_type": "markdown",
      "metadata": {
        "id": "bHOUUhSroJq7"
      },
      "source": [
        "---\n",
        "# LOAD MODEL"
      ]
    },
    {
      "cell_type": "code",
      "execution_count": 48,
      "metadata": {
        "id": "XoiOteI8oJq8"
      },
      "outputs": [],
      "source": [
        "def build_model():\n",
        "    inputs = Input(shape=(128,128,3))\n",
        "\n",
        "    base_model = EfficientNetB0(include_top=False, weights='imagenet',\n",
        "                                drop_connect_rate=0.33, input_tensor=inputs)\n",
        "    x = GlobalAveragePooling2D()(base_model.output)\n",
        "    x = Dropout(.5, name=\"top_dropout\")(x)\n",
        "    outputs = Dense(2, activation='softmax')(x)\n",
        "\n",
        "    model = Model(inputs, outputs)\n",
        "\n",
        "    model.compile(optimizer=Adam(learning_rate=1e-3),\n",
        "                  loss='categorical_crossentropy',\n",
        "                  metrics=['accuracy'])\n",
        "    return model"
      ]
    },
    {
      "cell_type": "code",
      "execution_count": 49,
      "metadata": {
        "id": "esOmJBoEoJrB"
      },
      "outputs": [
        {
          "data": {
            "text/plain": [
              "<keras.src.engine.functional.Functional at 0x1d1e6d59210>"
            ]
          },
          "execution_count": 49,
          "metadata": {},
          "output_type": "execute_result"
        }
      ],
      "source": [
        "model = build_model()\n",
        "model.load_weights(model_name)\n",
        "model"
      ]
    },
    {
      "cell_type": "markdown",
      "metadata": {
        "id": "26JWfCDtoJrD"
      },
      "source": [
        "---\n",
        "# PREDICT TEST"
      ]
    },
    {
      "cell_type": "code",
      "execution_count": 50,
      "metadata": {
        "id": "vK9AuwBcoJrE"
      },
      "outputs": [],
      "source": [
        "def read_file_image(file_path):\n",
        "    test_data = []\n",
        "    label_file = pd.read_csv(bbox_label_file)\n",
        "    for i in range(len(label_file)):\n",
        "        pixels = Image.open(os.path.join(file_path, label_file.iloc[i]['file_name']))\n",
        "        bbox = label_file.iloc[i]['bbox']\n",
        "        bbox = ast.literal_eval(bbox)\n",
        "        pixels = pixels.crop((bbox[0], bbox[1], bbox[0] + bbox[2], bbox[1] + bbox[3]))\n",
        "        test_data.append(np.array(pixels.resize(size_image)))\n",
        "    return test_data"
      ]
    },
    {
      "cell_type": "code",
      "execution_count": 51,
      "metadata": {
        "id": "W6jm7C1coJrG"
      },
      "outputs": [],
      "source": [
        "def preprocess_data_input(data):\n",
        "    processed_data = []\n",
        "    for each in data:\n",
        "        if len(each.shape) == 2:\n",
        "            each = np.expand_dims(each, axis=-1)\n",
        "            each = np.concatenate([each, each, each], axis=-1)\n",
        "        elif each.shape[2] == 1:\n",
        "            each = np.concatenate([each, each, each], axis=-1)\n",
        "        processed_data.append(each)\n",
        "    return np.array(processed_data)"
      ]
    },
    {
      "cell_type": "code",
      "execution_count": 52,
      "metadata": {
        "id": "FeXZrrjMoJrI"
      },
      "outputs": [],
      "source": [
        "# Read data\n",
        "data = read_file_image(link_folder)\n",
        "processed_data = preprocess_data_input(data)"
      ]
    },
    {
      "cell_type": "code",
      "execution_count": 53,
      "metadata": {
        "id": "R2gs1b5IoJrI"
      },
      "outputs": [
        {
          "name": "stdout",
          "output_type": "stream",
          "text": [
            "877/877 [==============================] - 313s 354ms/step\n"
          ]
        }
      ],
      "source": [
        "labels = model.predict(processed_data)\n",
        "labels = np.argmax(np.array(labels), axis=1)"
      ]
    },
    {
      "cell_type": "code",
      "execution_count": 54,
      "metadata": {
        "id": "5vncSLChoJrK"
      },
      "outputs": [],
      "source": [
        "bbox_labels = pd.read_csv('path_csv.csv')#path csv\n",
        "result = pd.DataFrame({'file_name': bbox_labels['file_name'], 'bbox': bbox_labels['bbox'], 'masked': list(map(lambda x: mapping[x], labels))})\n",
        "result.to_csv('masked_result', index=False) #result file csv"
      ]
    }
  ],
  "metadata": {
    "colab": {
      "provenance": []
    },
    "kernelspec": {
      "display_name": ".env",
      "language": "python",
      "name": "python3"
    },
    "language_info": {
      "codemirror_mode": {
        "name": "ipython",
        "version": 3
      },
      "file_extension": ".py",
      "mimetype": "text/x-python",
      "name": "python",
      "nbconvert_exporter": "python",
      "pygments_lexer": "ipython3",
      "version": "3.11.4"
    }
  },
  "nbformat": 4,
  "nbformat_minor": 0
}
