{
 "cells": [
  {
   "cell_type": "code",
   "execution_count": null,
   "id": "1e61d8c2",
   "metadata": {},
   "outputs": [],
   "source": [
    "!pip install ultralytics"
   ]
  },
  {
   "cell_type": "code",
   "execution_count": null,
   "id": "0f15135a",
   "metadata": {},
   "outputs": [],
   "source": [
    "from ultralytics import YOLO\n",
    "import pandas as pd\n",
    "import os"
   ]
  },
  {
   "cell_type": "code",
   "execution_count": null,
   "id": "7c0f047c",
   "metadata": {},
   "outputs": [],
   "source": [
    "model_path = 'yolov8l-face.pt'\n",
    "test_img_path = 'private_test_data'\n",
    "list_img = os.listdir(test_img_path)"
   ]
  },
  {
   "cell_type": "code",
   "execution_count": null,
   "id": "59367d2d",
   "metadata": {},
   "outputs": [],
   "source": [
    "model = YOLO(model_path)"
   ]
  },
  {
   "cell_type": "code",
   "execution_count": null,
   "id": "364977b2",
   "metadata": {},
   "outputs": [],
   "source": [
    "data = pd.DataFrame(columns=[\"file_name\", \"bbox\"])\n",
    "\n",
    "for img in list_img:\n",
    "    img_path = os.path.join(test_img_path, img)\n",
    "    result = model.predict(img_path,save=True)\n",
    "    conf = result[0].boxes.conf\n",
    "    boxes = result[0].boxes.xywh\n",
    "    if len(boxes) > 0:\n",
    "        x, y, w, h = boxes[0]\n",
    "        x -= w / 2\n",
    "        y -= h / 2\n",
    "        result = \"[{}, {}, {}, {}]\".format(float(x.item()), float(y.item()), float(w.item()), float(h.item()))\n",
    "        data = pd.concat([data, pd.DataFrame([{'file_name': img, 'bbox': result}])], ignore_index=True)"
   ]
  },
  {
   "cell_type": "code",
   "execution_count": null,
   "id": "5bed99a7",
   "metadata": {},
   "outputs": [],
   "source": [
    "print(f\"Len dataset: {len(list_img)}. Len data: {len(data)}\")"
   ]
  },
  {
   "cell_type": "code",
   "execution_count": null,
   "id": "8fcc6b22",
   "metadata": {},
   "outputs": [],
   "source": [
    "data.to_csv('bbox_result.csv')"
   ]
  }
 ],
 "metadata": {
  "language_info": {
   "name": "python"
  }
 },
 "nbformat": 4,
 "nbformat_minor": 5
}
