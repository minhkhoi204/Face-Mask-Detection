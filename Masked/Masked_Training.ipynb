{
  "cells": [
    {
      "cell_type": "markdown",
      "metadata": {
        "id": "VDf9KIp_D5T6"
      },
      "source": [
        "---\n",
        "# IMPORT"
      ]
    },
    {
      "cell_type": "code",
      "execution_count": 32,
      "metadata": {
        "id": "ivFraDEuD5T9"
      },
      "outputs": [],
      "source": [
        "import os\n",
        "import cv2\n",
        "import numpy as np\n",
        "import seaborn as sns\n",
        "import matplotlib.pyplot as plt\n",
        "\n",
        "from sklearn.model_selection import train_test_split\n",
        "from sklearn.preprocessing import LabelEncoder\n",
        "\n",
        "from tensorflow.keras.models import Model\n",
        "from tensorflow.keras.applications import EfficientNetB0\n",
        "from tensorflow.keras.layers import Dropout, Dense, Input, GlobalAveragePooling2D\n",
        "from tensorflow.keras.optimizers import Adam\n",
        "from tensorflow.keras.callbacks import ModelCheckpoint, EarlyStopping, ReduceLROnPlateau\n",
        "from tensorflow.keras.preprocessing.image import ImageDataGenerator\n",
        "from sklearn.metrics import confusion_matrix, accuracy_score\n",
        "from tensorflow.keras.utils import to_categorical\n",
        "from IPython.display import clear_output"
      ]
    },
    {
      "cell_type": "markdown",
      "metadata": {
        "id": "-l2F8aHBD5T-"
      },
      "source": [
        "---\n",
        "# VARIABLES"
      ]
    },
    {
      "cell_type": "code",
      "execution_count": 33,
      "metadata": {
        "id": "TJLAcsFgD5T_"
      },
      "outputs": [],
      "source": [
        "EPOCHS = 30\n",
        "batch_size = 64\n",
        "data_cater = 'data_cater'#path data for trained\n",
        "model_name = 'Masked_Model_Best.h5'#name path model created\n",
        "mapping = {0:'masked', 1:'unmasked'}"
      ]
    },
    {
      "cell_type": "markdown",
      "metadata": {
        "id": "-PuXxUwQD5T_"
      },
      "source": [
        "---\n",
        "# LOAD DATA\n"
      ]
    },
    {
      "cell_type": "code",
      "execution_count": 34,
      "metadata": {
        "id": "EXbdwEl3D5T_"
      },
      "outputs": [],
      "source": [
        "# Show data to chart\n",
        "def data_visualization(classes, data):\n",
        "    fig, ax = plt.subplots(figsize=(9, 5))\n",
        "    ax.bar(classes, data)\n",
        "    ax.set(title=\"Dataset's distribution for each Emotion class\")\n",
        "    ax.set(xlabel=\"Masked\", ylabel=\"#Images\")\n",
        "    ax.grid()\n",
        "\n",
        "# Load data to features and labels\n",
        "def load_data(data_path):\n",
        "    subfolders_ck = os.listdir(data_path)\n",
        "    data = []\n",
        "    labels_list = []\n",
        "    num_images_per_class = []\n",
        "\n",
        "    for category in subfolders_ck:\n",
        "        img_list = os.listdir(os.path.join(data_path, category))\n",
        "\n",
        "        print('Loading:', len(img_list), 'images of category', category)\n",
        "        for img in img_list:\n",
        "            pixels=cv2.imread(os.path.join(data_path, category, img))\n",
        "            data.append(pixels)\n",
        "            labels_list.append(category)\n",
        "        num_images_per_class.append(len(img_list))\n",
        "\n",
        "    le = LabelEncoder()\n",
        "    labels = le.fit_transform(labels_list)\n",
        "    labels = to_categorical(labels, 2)\n",
        "\n",
        "    data = np.array(data)\n",
        "\n",
        "    print(\"\\nTotal number of uploaded data:\", data.shape[0])\n",
        "    print(\"Data shape:\", (data.shape[1], data.shape[2], data.shape[3]))\n",
        "    data_visualization(subfolders_ck, num_images_per_class)\n",
        "    return data, labels"
      ]
    },
    {
      "cell_type": "code",
      "execution_count": 35,
      "metadata": {
        "id": "JKTHBMgAD5UA"
      },
      "outputs": [
        {
          "name": "stdout",
          "output_type": "stream",
          "text": [
            "Loading: 1647 images of category masked\n",
            "Loading: 3007 images of category unmasked\n",
            "\n",
            "Total number of uploaded data: 4654\n",
            "Data shape: (128, 128, 3)\n"
          ]
        },
        {
          "data": {
            "image/png": "[encoded data removed]",
            "text/plain": [
              "<Figure size 900x500 with 1 Axes>"
            ]
          },
          "metadata": {},
          "output_type": "display_data"
        }
      ],
      "source": [
        "data, labels = load_data(data_cater)"
      ]
    },
    {
      "cell_type": "markdown",
      "metadata": {
        "id": "s2V91Fv1D5UA"
      },
      "source": [
        "---\n",
        "# PROCESS"
      ]
    },
    {
      "cell_type": "code",
      "execution_count": 36,
      "metadata": {
        "id": "IKfZ10rvD5UB"
      },
      "outputs": [],
      "source": [
        "X_train, X_test, y_train, y_test = train_test_split(data, labels, test_size=0.3, shuffle=True, random_state=3)\n",
        "X_valid, X_test, y_valid, y_test = train_test_split(X_test, y_test, test_size=0.5, shuffle=True, random_state=3)"
      ]
    },
    {
      "cell_type": "code",
      "execution_count": 37,
      "metadata": {
        "id": "aYw-Dk4SD5UB"
      },
      "outputs": [],
      "source": [
        "trainAug = ImageDataGenerator(rotation_range=15,\n",
        "                              zoom_range=0.15,\n",
        "                              brightness_range=(.6, 1.2),\n",
        "                              shear_range=.15,\n",
        "                              horizontal_flip=True,\n",
        "                              fill_mode=\"nearest\")"
      ]
    },
    {
      "cell_type": "code",
      "execution_count": 38,
      "metadata": {
        "id": "7652G-B5D5UB"
      },
      "outputs": [],
      "source": [
        "def build_model():\n",
        "    #inputs = Input(shape=(48, 48, 3))\n",
        "    inputs = Input(shape=(128,128,3))\n",
        "    base_model = EfficientNetB0(include_top=False, weights='imagenet',\n",
        "                                drop_connect_rate=0.33, input_tensor=inputs)\n",
        "    x = GlobalAveragePooling2D()(base_model.output)\n",
        "    x = Dropout(.5, name=\"top_dropout\")(x)\n",
        "    outputs = Dense(2, activation='softmax')(x)\n",
        "    #outputs = Dense(2, activation='softmax')(x)    \n",
        "    model = Model(inputs, outputs)\n",
        "\n",
        "    model.compile(optimizer=Adam(learning_rate=1e-3),\n",
        "                  loss='categorical_crossentropy',\n",
        "                  metrics=['accuracy'])\n",
        "    return model"
      ]
    },
    {
      "cell_type": "markdown",
      "metadata": {
        "id": "knjgdQhtD5UB"
      },
      "source": [
        "---\n",
        "# TRAINING"
      ]
    },
    {
      "cell_type": "code",
      "execution_count": 39,
      "metadata": {
        "id": "UG7T0DyCD5UC"
      },
      "outputs": [
        {
          "name": "stdout",
          "output_type": "stream",
          "text": [
            "[INFO] training network for 30 epochs...\n",
            "\n",
            "Epoch 1/30\n",
            "50/50 [==============================] - ETA: 0s - loss: 0.0888 - accuracy: 0.9637\n",
            "Epoch 1: val_accuracy improved from -inf to 0.99427, saving model to MaskedModelBest4.h5\n"
          ]
        },
        {
          "name": "stderr",
          "output_type": "stream",
          "text": [
            "c:\\Users\\Klane\\AppData\\Local\\Programs\\Python\\Python311\\Lib\\site-packages\\keras\\src\\engine\\training.py:3103: UserWarning: You are saving your model as an HDF5 file via `model.save()`. This file format is considered legacy. We recommend using instead the native Keras format, e.g. `model.save('my_model.keras')`.\n",
            "  saving_api.save_model(\n"
          ]
        },
        {
          "name": "stdout",
          "output_type": "stream",
          "text": [
            "50/50 [==============================] - 95s 2s/step - loss: 0.0888 - accuracy: 0.9637 - val_loss: 0.0132 - val_accuracy: 0.9943 - lr: 0.0010\n",
            "Epoch 2/30\n",
            "50/50 [==============================] - ETA: 0s - loss: 0.0173 - accuracy: 0.9934\n",
            "Epoch 2: val_accuracy improved from 0.99427 to 0.99713, saving model to MaskedModelBest4.h5\n",
            "50/50 [==============================] - 74s 1s/step - loss: 0.0173 - accuracy: 0.9934 - val_loss: 0.0048 - val_accuracy: 0.9971 - lr: 0.0010\n",
            "Epoch 3/30\n",
            "50/50 [==============================] - ETA: 0s - loss: 0.0191 - accuracy: 0.9928\n",
            "Epoch 3: val_accuracy improved from 0.99713 to 1.00000, saving model to MaskedModelBest4.h5\n",
            "50/50 [==============================] - 77s 2s/step - loss: 0.0191 - accuracy: 0.9928 - val_loss: 0.0015 - val_accuracy: 1.0000 - lr: 0.0010\n",
            "Epoch 4/30\n",
            "50/50 [==============================] - ETA: 0s - loss: 0.0160 - accuracy: 0.9956\n",
            "Epoch 4: val_accuracy did not improve from 1.00000\n",
            "50/50 [==============================] - 75s 1s/step - loss: 0.0160 - accuracy: 0.9956 - val_loss: 0.0102 - val_accuracy: 0.9986 - lr: 0.0010\n",
            "Epoch 5/30\n",
            "50/50 [==============================] - ETA: 0s - loss: 0.0106 - accuracy: 0.9956\n",
            "Epoch 5: val_accuracy did not improve from 1.00000\n",
            "50/50 [==============================] - 75s 1s/step - loss: 0.0106 - accuracy: 0.9956 - val_loss: 0.0051 - val_accuracy: 0.9971 - lr: 0.0010\n",
            "Epoch 6/30\n",
            "50/50 [==============================] - ETA: 0s - loss: 0.0041 - accuracy: 0.9987\n",
            "Epoch 6: val_accuracy did not improve from 1.00000\n",
            "50/50 [==============================] - 73s 1s/step - loss: 0.0041 - accuracy: 0.9987 - val_loss: 1.2785e-04 - val_accuracy: 1.0000 - lr: 0.0010\n",
            "Epoch 7/30\n",
            "50/50 [==============================] - ETA: 0s - loss: 0.0135 - accuracy: 0.9956\n",
            "Epoch 7: val_accuracy did not improve from 1.00000\n",
            "50/50 [==============================] - 71s 1s/step - loss: 0.0135 - accuracy: 0.9956 - val_loss: 0.0276 - val_accuracy: 0.9971 - lr: 0.0010\n",
            "Epoch 8/30\n",
            "50/50 [==============================] - ETA: 0s - loss: 0.0159 - accuracy: 0.9959\n",
            "Epoch 8: val_accuracy did not improve from 1.00000\n",
            "\n",
            "Epoch 8: ReduceLROnPlateau reducing learning rate to 0.0005000000237487257.\n",
            "50/50 [==============================] - 74s 1s/step - loss: 0.0159 - accuracy: 0.9959 - val_loss: 0.0165 - val_accuracy: 0.9971 - lr: 0.0010\n",
            "Epoch 9/30\n",
            "50/50 [==============================] - ETA: 0s - loss: 0.0085 - accuracy: 0.9966\n",
            "Epoch 9: val_accuracy did not improve from 1.00000\n",
            "50/50 [==============================] - 76s 2s/step - loss: 0.0085 - accuracy: 0.9966 - val_loss: 7.9712e-04 - val_accuracy: 1.0000 - lr: 5.0000e-04\n",
            "Epoch 10/30\n",
            "50/50 [==============================] - ETA: 0s - loss: 0.0056 - accuracy: 0.9987\n",
            "Epoch 10: val_accuracy did not improve from 1.00000\n",
            "50/50 [==============================] - 74s 1s/step - loss: 0.0056 - accuracy: 0.9987 - val_loss: 0.0014 - val_accuracy: 1.0000 - lr: 5.0000e-04\n",
            "Epoch 11/30\n",
            "50/50 [==============================] - ETA: 0s - loss: 0.0065 - accuracy: 0.9981\n",
            "Epoch 11: val_accuracy did not improve from 1.00000\n",
            "50/50 [==============================] - 69s 1s/step - loss: 0.0065 - accuracy: 0.9981 - val_loss: 0.0040 - val_accuracy: 0.9971 - lr: 5.0000e-04\n",
            "Epoch 12/30\n",
            "50/50 [==============================] - ETA: 0s - loss: 0.0040 - accuracy: 0.9981\n",
            "Epoch 12: val_accuracy did not improve from 1.00000\n",
            "50/50 [==============================] - 69s 1s/step - loss: 0.0040 - accuracy: 0.9981 - val_loss: 4.0810e-04 - val_accuracy: 1.0000 - lr: 5.0000e-04\n",
            "Epoch 13/30\n",
            "50/50 [==============================] - ETA: 0s - loss: 0.0011 - accuracy: 0.9997\n",
            "Epoch 13: val_accuracy did not improve from 1.00000\n",
            "\n",
            "Epoch 13: ReduceLROnPlateau reducing learning rate to 0.0002500000118743628.\n",
            "50/50 [==============================] - 69s 1s/step - loss: 0.0011 - accuracy: 0.9997 - val_loss: 5.4347e-04 - val_accuracy: 1.0000 - lr: 5.0000e-04\n",
            "Epoch 14/30\n",
            "50/50 [==============================] - ETA: 0s - loss: 4.4160e-04 - accuracy: 1.0000\n",
            "Epoch 14: val_accuracy did not improve from 1.00000\n",
            "50/50 [==============================] - 69s 1s/step - loss: 4.4160e-04 - accuracy: 1.0000 - val_loss: 7.1357e-04 - val_accuracy: 1.0000 - lr: 2.5000e-04\n",
            "Epoch 15/30\n",
            "50/50 [==============================] - ETA: 0s - loss: 0.0012 - accuracy: 0.9997  \n",
            "Epoch 15: val_accuracy did not improve from 1.00000\n",
            "50/50 [==============================] - 69s 1s/step - loss: 0.0012 - accuracy: 0.9997 - val_loss: 2.9292e-04 - val_accuracy: 1.0000 - lr: 2.5000e-04\n",
            "Epoch 16/30\n",
            "50/50 [==============================] - ETA: 0s - loss: 6.0171e-04 - accuracy: 0.9997\n",
            "Epoch 16: val_accuracy did not improve from 1.00000\n",
            "50/50 [==============================] - 69s 1s/step - loss: 6.0171e-04 - accuracy: 0.9997 - val_loss: 1.4940e-04 - val_accuracy: 1.0000 - lr: 2.5000e-04\n",
            "Epoch 17/30\n",
            "50/50 [==============================] - ETA: 0s - loss: 0.0022 - accuracy: 0.9991\n",
            "Epoch 17: val_accuracy did not improve from 1.00000\n",
            "50/50 [==============================] - 69s 1s/step - loss: 0.0022 - accuracy: 0.9991 - val_loss: 9.3745e-05 - val_accuracy: 1.0000 - lr: 2.5000e-04\n",
            "Epoch 18/30\n",
            "50/50 [==============================] - ETA: 0s - loss: 0.0011 - accuracy: 0.9994\n",
            "Epoch 18: val_accuracy did not improve from 1.00000\n",
            "Restoring model weights from the end of the best epoch: 3.\n",
            "\n",
            "Epoch 18: ReduceLROnPlateau reducing learning rate to 0.0001250000059371814.\n",
            "50/50 [==============================] - 69s 1s/step - loss: 0.0011 - accuracy: 0.9994 - val_loss: 7.4188e-05 - val_accuracy: 1.0000 - lr: 2.5000e-04\n",
            "Epoch 18: early stopping\n"
          ]
        }
      ],
      "source": [
        "with open(model_name, 'w'):\n",
        "    pass\n",
        "model = build_model()\n",
        "\n",
        "# Set up for training\n",
        "checkpoint = ModelCheckpoint(model_name, monitor='val_accuracy', verbose=1, save_best_only=True, mode='max')\n",
        "earlystopping = EarlyStopping(monitor='val_accuracy', patience=15, verbose=1, mode='auto', restore_best_weights=True)\n",
        "rlrop = ReduceLROnPlateau(monitor='val_accuracy', mode='max', patience=5, factor=0.5, min_lr=1e-6, verbose=1)\n",
        "callbacks = [checkpoint, earlystopping, rlrop]\n",
        "\n",
        "# Training\n",
        "print(f\"[INFO] training network for {EPOCHS} epochs...\\n\")\n",
        "hist = model.fit(trainAug.flow(X_train, y_train, batch_size=batch_size),\n",
        "                 steps_per_epoch=len(X_train) // batch_size,\n",
        "                 validation_data=(X_valid, y_valid),\n",
        "                 epochs=EPOCHS, callbacks=callbacks)"
      ]
    },
    {
      "cell_type": "markdown",
      "metadata": {
        "id": "B9tuVYn8D5UC"
      },
      "source": [
        "---\n",
        "# PREDICT AND EVALUATE"
      ]
    },
    {
      "cell_type": "code",
      "execution_count": 40,
      "metadata": {
        "id": "uikfN9kaD5UC"
      },
      "outputs": [
        {
          "data": {
            "text/plain": [
              "<keras.src.engine.functional.Functional at 0x19e152ba810>"
            ]
          },
          "execution_count": 40,
          "metadata": {},
          "output_type": "execute_result"
        }
      ],
      "source": [
        "model = build_model()\n",
        "model.load_weights(model_name)\n",
        "clear_output()\n",
        "model"
      ]
    },
    {
      "cell_type": "code",
      "execution_count": 41,
      "metadata": {
        "id": "9H_o5ZXzD5UC"
      },
      "outputs": [
        {
          "name": "stdout",
          "output_type": "stream",
          "text": [
            "22/22 [==============================] - 4s 137ms/step\n",
            "Accuracy : 0.9957081545064378\n"
          ]
        }
      ],
      "source": [
        "predict = model.predict(X_test)\n",
        "predict = np.argmax(np.array(predict), axis=1)\n",
        "y_test = np.argmax(np.array(y_test), axis=1)\n",
        "\n",
        "print(\"Accuracy : \" + str(accuracy_score(y_test, predict)))"
      ]
    },
    {
      "cell_type": "code",
      "execution_count": 42,
      "metadata": {
        "id": "s0GdMinAD5UC"
      },
      "outputs": [
        {
          "data": {
            "image/png": "[encoded data removed]",
            "text/plain": [
              "<Figure size 640x480 with 2 Axes>"
            ]
          },
          "metadata": {},
          "output_type": "display_data"
        }
      ],
      "source": [
        "# Calculate confusion matrix\n",
        "conf_matrix = confusion_matrix(y_test, predict)\n",
        "sns.heatmap(conf_matrix, annot=True, fmt='d', cmap='Blues', xticklabels=mapping.values(), yticklabels=mapping.values())\n",
        "plt.xlabel('Predicted Labels')\n",
        "plt.ylabel('True Labels')\n",
        "plt.title('Confusion Matrix')\n",
        "plt.show()"
      ]
    }
  ],
  "metadata": {
    "colab": {
      "provenance": []
    },
    "kernelspec": {
      "display_name": ".env",
      "language": "python",
      "name": "python3"
    },
    "language_info": {
      "codemirror_mode": {
        "name": "ipython",
        "version": 3
      },
      "file_extension": ".py",
      "mimetype": "text/x-python",
      "name": "python",
      "nbconvert_exporter": "python",
      "pygments_lexer": "ipython3",
      "version": "3.11.4"
    }
  },
  "nbformat": 4,
  "nbformat_minor": 0
}
